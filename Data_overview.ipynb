{
 "cells": [
  {
   "cell_type": "code",
   "execution_count": 14,
   "metadata": {},
   "outputs": [],
   "source": [
    "import numpy as np\n",
    "import random"
   ]
  },
  {
   "cell_type": "code",
   "execution_count": 38,
   "metadata": {},
   "outputs": [],
   "source": [
    "# Load the data\n",
    "data_path = \"Baseline_Code_Repo/WP-train-with-para.npy\"\n",
    "data = np.load(data_path, allow_pickle=True)"
   ]
  },
  {
   "cell_type": "code",
   "execution_count": 41,
   "metadata": {},
   "outputs": [
    {
     "name": "stdout",
     "output_type": "stream",
     "text": [
      "Loaded 4 entries from Baseline_Code_Repo/WP-train-with-para.npy\\n\n"
     ]
    },
    {
     "data": {
      "text/plain": [
       "array([{'id': 'WP-0', 'question': 'How do you spell COW in thirteen letters?', 'answer': 'SEE O DOUBLE YOU.', 'distractor1': 'COWCOWCOWCOWW', 'distractor2': 'SEE OH DEREFORD', 'distractor(unsure)': 'None of above.', 'label': 1, 'choice_list': ['SEE OH DEREFORD', 'SEE O DOUBLE YOU.', 'COWCOWCOWCOWW', 'None of above.'], 'choice_order': [2, 0, 1, 3]},\n",
       "       {'id': 'WP-0_SR', 'question': 'In thirteen letters, how do you spell COW?', 'answer': 'SEE O DOUBLE YOU.', 'distractor1': 'COWCOWCOWCOWW', 'distractor2': 'SEE OH DEREFORD', 'distractor(unsure)': 'None of above.', 'label': 2, 'choice_list': ['SEE OH DEREFORD', 'COWCOWCOWCOWW', 'SEE O DOUBLE YOU.', 'None of above.'], 'choice_order': [2, 1, 0, 3]},\n",
       "       {'id': 'WP-0_CR', 'question': 'How do you spell COB in seven letters?', 'answer': 'SEE O BEE', 'distractor1': 'COBCOBB', 'distractor2': 'COBBLER', 'distractor(unsure)': 'None of above.', 'label': 2, 'choice_list': ['COBCOBB', 'COBBLER', 'SEE O BEE', 'None of above.'], 'choice_order': [1, 2, 0, 3]},\n",
       "       {'id': 'WP-0_PARA', 'question': 'What thirteen letters spell out the word COW?', 'answer': 'SEE O DOUBLE YOU.', 'distractor1': 'COWCOWCOWCOWW', 'distractor2': 'SEE OH DEREFORD', 'distractor(unsure)': 'None of above.', 'label': 0, 'choice_list': ['SEE O DOUBLE YOU.', 'None of above.', 'SEE OH DEREFORD', 'COWCOWCOWCOWW'], 'choice_order': [0, 3, 2, 1]}],\n",
       "      dtype=object)"
      ]
     },
     "execution_count": 41,
     "metadata": {},
     "output_type": "execute_result"
    }
   ],
   "source": [
    "# Print the number of entries\n",
    "print(f\"Loaded {len(data)} entries from {data_path}\\\\n\")\n",
    "\n",
    "# Print First 3 samples\n",
    "sampled = data[:4]\n",
    "sampled"
   ]
  },
  {
   "cell_type": "code",
   "execution_count": 35,
   "metadata": {},
   "outputs": [
    {
     "name": "stdout",
     "output_type": "stream",
     "text": [
      "saved\n"
     ]
    }
   ],
   "source": [
    "np.save(\"test.npy\", sampled)\n",
    "print(\"saved\")"
   ]
  },
  {
   "cell_type": "code",
   "execution_count": 32,
   "metadata": {},
   "outputs": [
    {
     "name": "stdout",
     "output_type": "stream",
     "text": [
      "Loaded 4 entries from WP-train-one-para-set.npy\\n\n",
      "--- Sample 1 ---\n",
      "ID: WP-0\n",
      "Question: How do you spell COW in thirteen letters?\n",
      "\n",
      "Choices:\n",
      "  1. COWCOWCOWCOWW \n",
      "  2. SEE OH DEREFORD \n",
      "  3. SEE O DOUBLE YOU. (answer)\n",
      "  4. None of above. \n",
      "--------------------------------------------------\n",
      "--- Sample 2 ---\n",
      "ID: WP-0_SR\n",
      "Question: In thirteen letters, how do you spell COW?\n",
      "\n",
      "Choices:\n",
      "  1. SEE O DOUBLE YOU. (answer)\n",
      "  2. COWCOWCOWCOWW \n",
      "  3. SEE OH DEREFORD \n",
      "  4. None of above. \n",
      "--------------------------------------------------\n",
      "--- Sample 3 ---\n",
      "ID: WP-0_CR\n",
      "Question: How do you spell COB in seven letters?\n",
      "\n",
      "Choices:\n",
      "  1. COBBLER \n",
      "  2. SEE O BEE (answer)\n",
      "  3. COBCOBB \n",
      "  4. None of above. \n",
      "--------------------------------------------------\n",
      "--- Sample 4 ---\n",
      "ID: WP-0_PARA\n",
      "Question: What’s a thirteen-letter way to spell COW?\n",
      "\n",
      "Choices:\n",
      "  1. COWCOWCOWCOWW \n",
      "  2. SEE O DOUBLE YOU. (answer)\n",
      "  3. None of above. \n",
      "  4. SEE OH DEREFORD \n",
      "--------------------------------------------------\n"
     ]
    }
   ],
   "source": [
    "print(f\"Loaded {len(data)} entries from {data_path}\\\\n\")\n",
    "\n",
    "#for the training set\n",
    "for i, entry in enumerate(sampled):\n",
    "    print(f\"--- Sample {i+1} ---\")\n",
    "    print(f\"ID: {entry['id']}\")\n",
    "    print(f\"Question: {entry['question']}\\n\")\n",
    "\n",
    "    # Print choices in the order specified by 'choice_order'\n",
    "    print(\"Choices:\")\n",
    "    for idx, choice_idx in enumerate(entry['choice_order']):\n",
    "        choice_text = entry['choice_list'][choice_idx]\n",
    "        correct = \"(answer)\" if choice_idx == entry['label'] else \"\"\n",
    "        print(f\"  {idx+1}. {choice_text} {correct}\")\n",
    "    \n",
    "    print(\"-\" * 50)"
   ]
  },
  {
   "cell_type": "code",
   "execution_count": 12,
   "metadata": {},
   "outputs": [
    {
     "name": "stdout",
     "output_type": "stream",
     "text": [
      "--- Sample 1 ---\n",
      "Q: How do you spell COW in thirteen letters?\n",
      "Choices:\n",
      "  1. SEE OH DEREFORD\n",
      "  2. SEE O DOUBLE YOU.\n",
      "  3. COWCOWCOWCOWW\n",
      "  4. None of above.\n",
      "--------------------------------------------------\n",
      "--- Sample 2 ---\n",
      "Q: In thirteen letters, how do you spell COW?\n",
      "Choices:\n",
      "  1. SEE OH DEREFORD\n",
      "  2. COWCOWCOWCOWW\n",
      "  3. SEE O DOUBLE YOU.\n",
      "  4. None of above.\n",
      "--------------------------------------------------\n",
      "--- Sample 3 ---\n",
      "Q: How do you spell COB in seven letters?\n",
      "Choices:\n",
      "  1. COBCOBB\n",
      "  2. COBBLER\n",
      "  3. SEE O BEE\n",
      "  4. None of above.\n",
      "--------------------------------------------------\n",
      "--- Sample 4 ---\n",
      "Q: If eleven plus two equals one, what does nine plus five equal?\n",
      "Choices:\n",
      "  1. Four.\n",
      "  2. Two.\n",
      "  3. Three.\n",
      "  4. None of above.\n",
      "--------------------------------------------------\n"
     ]
    }
   ],
   "source": [
    "#For the evaluation set\n",
    "for i, entry in enumerate(sampled):\n",
    "    print(f\"--- Sample {i+1} ---\")\n",
    "    print(f\"Q: {entry['question']}\")\n",
    "    print(\"Choices:\")\n",
    "    for idx, choice in enumerate(entry['choice_list']):\n",
    "        print(f\"  {idx+1}. {choice}\")\n",
    "    print(\"-\" * 50)"
   ]
  }
 ],
 "metadata": {
  "kernelspec": {
   "display_name": "base",
   "language": "python",
   "name": "python3"
  },
  "language_info": {
   "codemirror_mode": {
    "name": "ipython",
    "version": 3
   },
   "file_extension": ".py",
   "mimetype": "text/x-python",
   "name": "python",
   "nbconvert_exporter": "python",
   "pygments_lexer": "ipython3",
   "version": "3.12.2"
  }
 },
 "nbformat": 4,
 "nbformat_minor": 2
}
