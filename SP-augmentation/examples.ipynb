{
 "cells": [
  {
   "cell_type": "code",
   "execution_count": null,
   "id": "2be88bb2",
   "metadata": {},
   "outputs": [
    {
     "name": "stdout",
     "output_type": "stream",
     "text": [
      "{'id': 'SP-0', 'question': 'Mr. and Mrs. Mustard have six daughters and each daughter has one brother. But there are only 9 people in the family, how is that possible?', 'answer': 'Each daughter shares the same brother.', 'distractor1': 'Some daughters get married and have their own family.', 'distractor2': 'Some brothers were not loved by family and moved away.', 'distractor(unsure)': 'None of above.', 'label': 1, 'choice_list': ['Some daughters get married and have their own family.', 'Each daughter shares the same brother.', 'Some brothers were not loved by family and moved away.', 'None of above.'], 'choice_order': [1, 0, 2, 3]}\n"
     ]
    }
   ],
   "source": [
    "import numpy as np\n",
    "\n",
    "# Path to generated + original questions\n",
    "file_path = \"data/SP-train-with-generated.npy\"\n",
    "\n",
    "# Load files\n",
    "data = np.load(file_path, allow_pickle=True)\n",
    "data_list = data.tolist()\n",
    "\n",
    "data_list[0]"
   ]
  },
  {
   "cell_type": "code",
   "execution_count": null,
   "id": "5f80f4b0",
   "metadata": {},
   "outputs": [],
   "source": [
    "# First question (i.e. SP-0_*)\n",
    "sample_data = data_list[0:6]\n",
    "\n",
    "# Write to file\n",
    "with open(\"generated_question_examples.txt\", \"w\", encoding=\"utf-8\") as f:\n",
    "    for entry in sample_data:\n",
    "        f.write(f\"ID: {entry['id']}\\n\")\n",
    "        f.write(f\"Question: {entry['question']}\\n\")\n",
    "        f.write(\"Choices:\\n\")\n",
    "        for i, choice in enumerate(entry[\"choice_list\"]):\n",
    "            f.write(f\"  {chr(65 + i)}. {choice}\\n\")\n",
    "        f.write(f\"Answer: {entry['answer']}\\n\")\n",
    "        f.write(\"-\" * 60 + \"\\n\")"
   ]
  }
 ],
 "metadata": {
  "kernelspec": {
   "display_name": "nlp-project",
   "language": "python",
   "name": "python3"
  },
  "language_info": {
   "codemirror_mode": {
    "name": "ipython",
    "version": 3
   },
   "file_extension": ".py",
   "mimetype": "text/x-python",
   "name": "python",
   "nbconvert_exporter": "python",
   "pygments_lexer": "ipython3",
   "version": "3.10.17"
  }
 },
 "nbformat": 4,
 "nbformat_minor": 5
}
